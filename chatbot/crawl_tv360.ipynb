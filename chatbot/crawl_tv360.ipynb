{
 "cells": [
  {
   "cell_type": "code",
   "execution_count": null,
   "metadata": {},
   "outputs": [
    {
     "name": "stdout",
     "output_type": "stream",
     "text": [
      "24\n",
      "Found 24 movies. Crawling details...\n"
     ]
    }
   ],
   "source": [
    "import requests\n",
    "from bs4 import BeautifulSoup\n",
    "\n",
    "BASE_URL = \"https://tv360.vn/collections/movies/phim-au-my?c=1135\"\n",
    "\n",
    "# Headers to simulate a real browser\n",
    "HEADERS = {\n",
    "    \"User-Agent\": \"Mozilla/5.0 (Windows NT 10.0; Win64; x64) AppleWebKit/537.36 (KHTML, like Gecko) Chrome/120.0.0.0 Safari/537.36\"\n",
    "}\n",
    "\n",
    "def get_movie_links():\n",
    "    \"\"\"Fetch all movie links from the main movie page.\"\"\"\n",
    "    response = requests.get(BASE_URL, headers=HEADERS)\n",
    "    response.raise_for_status()\n",
    "    soup = BeautifulSoup(response.text, \"html.parser\")\n",
    "\n",
    "    movie_links = []\n",
    "    movie_containers = soup.find_all(\"div\", class_=\"css-16dzf3w\")  # Locate movie container\n",
    "    print(len(movie_containers))\n",
    "    \n",
    "    for container in movie_containers:\n",
    "        links = container.find_all(\"a\", href=True)  # Find all <a> tags with href\n",
    "        for link in links:\n",
    "            full_url = \"https://tv360.vn\" + link[\"href\"]\n",
    "            movie_links.append(full_url)\n",
    "\n",
    "    return movie_links\n",
    "\n",
    "\n",
    "\n",
    "movie_links = get_movie_links()\n",
    "print(f\"Found {len(movie_links)} movies. Crawling details...\")"
   ]
  },
  {
   "cell_type": "code",
   "execution_count": 8,
   "metadata": {},
   "outputs": [
    {
     "data": {
      "text/plain": [
       "'https://tv360.vn/movie/4k-lang-quen-oblivion?m=24605&col=1135&sect=COLLECTION&page=list_col'"
      ]
     },
     "execution_count": 8,
     "metadata": {},
     "output_type": "execute_result"
    }
   ],
   "source": [
    "movie_links[0]"
   ]
  },
  {
   "cell_type": "code",
   "execution_count": null,
   "metadata": {},
   "outputs": [
    {
     "name": "stdout",
     "output_type": "stream",
     "text": [
      "24\n",
      "24\n",
      "24\n",
      "24\n",
      "24\n",
      "24\n",
      "24\n",
      "Crawled 168 links\n"
     ]
    }
   ],
   "source": [
    "import re\n",
    "\n",
    "import requests\n",
    "from bs4 import BeautifulSoup\n",
    "\n",
    "BASE_URL = [\"https://tv360.vn/collections/movies/phim-au-my?c=1135\", \"https://tv360.vn/collections/movies/phim-hai?c=1123\", \"https://tv360.vn/collections/movies/phim-hoat-hinh?c=1129\", \"https://tv360.vn/collections/movies/anime?c=1126\", \"https://tv360.vn/collections/movies/phim-chau-a?c=1132\", \"https://tv360.vn/collections/movies/phim-tam-ly?c=1144\", \"https://tv360.vn/collections/movies/phim-trung-quoc?c=1153\"]\n",
    "\n",
    "# Headers to simulate a real browser\n",
    "HEADERS = {\n",
    "    \"User-Agent\": \"Mozilla/5.0 (Windows NT 10.0; Win64; x64) AppleWebKit/537.36 (KHTML, like Gecko) Chrome/120.0.0.0 Safari/537.36\"\n",
    "}\n",
    "\n",
    "def get_movie_links():\n",
    "    movie_links = []\n",
    "    for link in BASE_URL:\n",
    "        \"\"\"Fetch all movie links from the main movie page.\"\"\"\n",
    "        response = requests.get(link, headers=HEADERS)\n",
    "        response.raise_for_status()\n",
    "        soup = BeautifulSoup(response.text, \"html.parser\")\n",
    "\n",
    "        \n",
    "        movie_containers = soup.find_all(\"div\", class_=\"css-16dzf3w\")  # Locate movie container\n",
    "        print(len(movie_containers))\n",
    "        \n",
    "        for container in movie_containers:\n",
    "            links = container.find_all(\"a\", href=True)  # Find all <a> tags with href\n",
    "            for link in links:\n",
    "                full_url = \"https://tv360.vn\" + link[\"href\"]\n",
    "                movie_links.append(full_url)\n",
    "    return movie_links\n",
    "\n",
    "\n",
    "\n",
    "movie_links = get_movie_links()\n",
    "print(f\"Crawled {len(movie_links)} links\")\n",
    "\n",
    "def crawl_movie_page(url):\n",
    "    \"\"\"Visit a movie's page and extract information.\"\"\"\n",
    "    response = requests.get(url, headers=HEADERS)\n",
    "    response.raise_for_status()\n",
    "    soup = BeautifulSoup(response.text, \"html.parser\")\n",
    "\n",
    "    # Extract movie details from div with class \"css-1hvy2us\"\n",
    "    movie_info_div = soup.find(\"div\", class_=\"css-1hvy2us\")\n",
    "    if movie_info_div:\n",
    "        return movie_info_div.get_text(separator=\"\\n\", strip=True)\n",
    "    return \"No information found\"\n",
    "\n",
    "def extract_movie_info(data):\n",
    "    info = {}\n",
    "    \n",
    "    # Title\n",
    "    info['title'] = data[0]\n",
    "    \n",
    "    # Category (Từ phần tử thứ 2 đến khi gặp một phần tử bắt đầu bằng title)\n",
    "    title_lower = info['title'].lower()\n",
    "    category_end_idx = next((i for i, s in enumerate(data[1:], start=1) if s.lower().startswith(title_lower)), len(data))\n",
    "    info['category'] = data[1:category_end_idx]\n",
    "    \n",
    "    # Plot (Từ phần tử có title đến khi gặp \"Diễn viên:\")\n",
    "    plot_start_idx = category_end_idx\n",
    "    plot_end_idx = next((i for i, s in enumerate(data[plot_start_idx:], start=plot_start_idx) if \"Diễn viên:\" in s), len(data))\n",
    "    info['plot'] = \" \".join(data[plot_start_idx:plot_end_idx]).strip()\n",
    "    \n",
    "    # Extract directors, actors, country\n",
    "    def extract_section(keyword, end_keywords):\n",
    "        try:\n",
    "            start_idx = data.index(keyword) + 1\n",
    "            end_idx = next((i for i, s in enumerate(data[start_idx:], start=start_idx) if s in end_keywords), len(data))\n",
    "            return [s.strip(',') for s in data[start_idx:end_idx]]\n",
    "        except ValueError:\n",
    "            return []\n",
    "    \n",
    "    info['actors'] = extract_section(\"Diễn viên:\", [\"Đạo diễn:\", \"Quốc gia:\"])\n",
    "    info['director'] = extract_section(\"Đạo diễn:\", [\"Quốc gia:\"])\n",
    "    info['country'] = extract_section(\"Quốc gia:\", [])\n",
    "    \n",
    "    return info\n",
    "\n"
   ]
  },
  {
   "cell_type": "code",
   "execution_count": 23,
   "metadata": {},
   "outputs": [],
   "source": [
    "data = []\n",
    "for movie_url in movie_links:\n",
    "    movie_info = crawl_movie_page(movie_url)\n",
    "    movie_info = movie_info.split(\"\\n\")\n",
    "    exclude_list = [\n",
    "    \"T18\", \"Xem sau\", \"Quản lý thiết bị\", \"Đóng\", \"Đăng xuất\", \n",
    "    \"Chia sẻ\", \"Nhúng\", \"Facebook\", \"Whatsapp\", \"Telegram\", \n",
    "    \"Viber\", \"Email\", \"Sao chép\", \"Bắt đầu tại\", \"Mới trên TV360\"\n",
    "    ]\n",
    "    movie_info = [item for item in movie_info if item not in exclude_list]\n",
    "    details = extract_movie_info(movie_info)\n",
    "    data.append(details)"
   ]
  },
  {
   "cell_type": "code",
   "execution_count": 24,
   "metadata": {},
   "outputs": [
    {
     "data": {
      "text/plain": [
       "168"
      ]
     },
     "execution_count": 24,
     "metadata": {},
     "output_type": "execute_result"
    }
   ],
   "source": [
    "len(data)"
   ]
  },
  {
   "cell_type": "code",
   "execution_count": 25,
   "metadata": {},
   "outputs": [
    {
     "name": "stdout",
     "output_type": "stream",
     "text": [
      "                                        title  \\\n",
      "0                     4K Lãng Quên - Oblivion   \n",
      "1             Đêm Ở Trường Học - Night School   \n",
      "2                    Hành Trình Trở Về - Home   \n",
      "3                    Siêu Anh Hùng - Superwho   \n",
      "4  4K Sự Nổi Dậy Hoàn Hảo 3 - Pitch Perfect 3   \n",
      "\n",
      "                                            category  \\\n",
      "0  [T16, Phim Âu Mỹ, Hành động & Phiêu lưu, Lãng ...   \n",
      "1                     [T13, Phim Âu Mỹ, Phim tâm lý]   \n",
      "2                    [P, Phim Âu Mỹ, Phim hoạt hình]   \n",
      "3  [T13, Phim Âu Mỹ, Hành động & Phiêu lưu, Diễn ...   \n",
      "4  [T13, Phim Âu Mỹ, Romance, Sự Nổi Dậy Hoàn Hảo...   \n",
      "\n",
      "                                                plot  \\\n",
      "0                                                      \n",
      "1  Đêm Ở Trường Học - Night School là một bộ phim...   \n",
      "2  Hành Trình Trở Về - Home là một bộ phim hoạt h...   \n",
      "3                                                      \n",
      "4                                                      \n",
      "\n",
      "                                              actors            director  \\\n",
      "0                 [Morgan Freeman, , Olga Kurylenko]   [Joseph Kosinski]   \n",
      "1  [Kevin Hart, , Taran Killam, , Rob Riggle, , R...    [Malcolm D. Lee]   \n",
      "2  [Jennifer Lopez, , Steve Martin, , Brian Stepa...       [Tim Johnson]   \n",
      "3  [Julien Arruti, , Philippe Lacheau, , Tarek Bo...  [Philippe Lacheau]   \n",
      "4  [Anna Kendrick, , Brittany Snow, , Rebel Wilso...         [Trish Sie]   \n",
      "\n",
      "                      country  \n",
      "0  [United States of America]  \n",
      "1  [United States of America]  \n",
      "2  [United States of America]  \n",
      "3                    [France]  \n",
      "4  [United States of America]  \n"
     ]
    }
   ],
   "source": [
    "import pandas as pd\n",
    "\n",
    "df = pd.DataFrame(data)\n",
    "\n",
    "# Display the first few rows\n",
    "print(df.head())\n",
    "\n",
    "# Optionally, save it to a CSV file\n",
    "df.to_csv(\"movies_data.csv\", index=False)"
   ]
  },
  {
   "cell_type": "code",
   "execution_count": 18,
   "metadata": {},
   "outputs": [
    {
     "name": "stdout",
     "output_type": "stream",
     "text": [
      "{'title': '4K Lãng Quên - Oblivion', 'category': ['T16', 'Phim Âu Mỹ', 'Hành động & Phiêu lưu', 'Lãng Quên - Oblivion: Một người lính dày dặn được giao nhiệm vụ khai thác những tài nguyên còn lại của Trái đất bắt đầu hoài nghi về nhiệm vụ và sự tồn tại của mình.', 'Diễn viên:', 'Morgan Freeman', ',', 'Olga Kurylenko', 'Đạo diễn:', 'Joseph Kosinski', 'Quốc gia:', 'United States of America'], 'plot': '', 'actors': ['Morgan Freeman', '', 'Olga Kurylenko'], 'director': ['Joseph Kosinski'], 'country': ['United States of America']}\n",
      "{'title': 'Đêm Ở Trường Học - Night School', 'category': ['T13', 'Phim Âu Mỹ', 'Phim tâm lý'], 'plot': 'Đêm Ở Trường Học - Night School là một bộ phim hài kể về Teddy Walker, một người đàn ông thất nghiệp phải quay lại trường học để lấy bằng tốt nghiệp trung học sau khi mất việc. Anh tham gia một lớp học ban đêm với hy vọng cải thiện cuộc sống của mình, nhưng gặp phải nhiều tình huống dở khóc dở cười cùng với nhóm bạn học đầy cá tính và cô giáo cứng rắn Carrie.', 'actors': ['Kevin Hart', '', 'Taran Killam', '', 'Rob Riggle', '', 'Romany Malco', '', 'Tiffany Haddish'], 'director': ['Malcolm D. Lee'], 'country': ['United States of America']}\n",
      "{'title': 'Hành Trình Trở Về - Home', 'category': ['P', 'Phim Âu Mỹ', 'Phim hoạt hình'], 'plot': 'Hành Trình Trở Về - Home là một bộ phim hoạt hình kể về cuộc gặp gỡ giữa một cô bé tên Tip và một người ngoài hành tinh ngộ nghĩnh tên Oh, thuộc chủng loài Boov đang tìm cách chiếm đóng Trái Đất.', 'actors': ['Jennifer Lopez', '', 'Steve Martin', '', 'Brian Stepanek', '', 'Rihanna', '', 'Jim Parsons.', '', 'Matt Jones'], 'director': ['Tim Johnson'], 'country': ['United States of America']}\n"
     ]
    }
   ],
   "source": [
    "import re\n",
    "\n",
    "def extract_movie_info(data):\n",
    "    info = {}\n",
    "    \n",
    "    # Title\n",
    "    info['title'] = data[0]\n",
    "    \n",
    "    # Category (Từ phần tử thứ 2 đến khi gặp một phần tử bắt đầu bằng title)\n",
    "    title_lower = info['title'].lower()\n",
    "    category_end_idx = next((i for i, s in enumerate(data[1:], start=1) if s.lower().startswith(title_lower)), len(data))\n",
    "    info['category'] = data[1:category_end_idx]\n",
    "    \n",
    "    # Plot (Từ phần tử có title đến khi gặp \"Diễn viên:\")\n",
    "    plot_start_idx = category_end_idx\n",
    "    plot_end_idx = next((i for i, s in enumerate(data[plot_start_idx:], start=plot_start_idx) if \"Diễn viên:\" in s), len(data))\n",
    "    info['plot'] = \" \".join(data[plot_start_idx:plot_end_idx]).strip()\n",
    "    \n",
    "    # Extract directors, actors, country\n",
    "    def extract_section(keyword, end_keywords):\n",
    "        try:\n",
    "            start_idx = data.index(keyword) + 1\n",
    "            end_idx = next((i for i, s in enumerate(data[start_idx:], start=start_idx) if s in end_keywords), len(data))\n",
    "            return [s.strip(',') for s in data[start_idx:end_idx]]\n",
    "        except ValueError:\n",
    "            return []\n",
    "    \n",
    "    info['actors'] = extract_section(\"Diễn viên:\", [\"Đạo diễn:\", \"Quốc gia:\"])\n",
    "    info['director'] = extract_section(\"Đạo diễn:\", [\"Quốc gia:\"])\n",
    "    info['country'] = extract_section(\"Quốc gia:\", [])\n",
    "    \n",
    "    return info\n",
    "\n",
    "# Example data sets\n",
    "movies_data = [\n",
    "    ['4K Lãng Quên - Oblivion', 'T16', 'Phim Âu Mỹ', 'Hành động & Phiêu lưu', 'Lãng Quên - Oblivion: Một người lính dày dặn được giao nhiệm vụ khai thác những tài nguyên còn lại của Trái đất bắt đầu hoài nghi về nhiệm vụ và sự tồn tại của mình.', 'Diễn viên:', 'Morgan Freeman', ',', 'Olga Kurylenko', 'Đạo diễn:', 'Joseph Kosinski', 'Quốc gia:', 'United States of America'],\n",
    "    ['Đêm Ở Trường Học - Night School', 'T13', 'Phim Âu Mỹ', 'Phim tâm lý', 'Đêm Ở Trường Học - Night School là một bộ phim hài kể về Teddy Walker, một người đàn ông thất nghiệp phải quay lại trường học để lấy bằng tốt nghiệp trung học sau khi mất việc. Anh tham gia một lớp học ban đêm với hy vọng cải thiện cuộc sống của mình, nhưng gặp phải nhiều tình huống dở khóc dở cười cùng với nhóm bạn học đầy cá tính và cô giáo cứng rắn Carrie.', 'Diễn viên:', 'Kevin Hart', ',', 'Taran Killam', ',', 'Rob Riggle', ',', 'Romany Malco', ',', 'Tiffany Haddish', 'Đạo diễn:', 'Malcolm D. Lee', 'Quốc gia:', 'United States of America'],\n",
    "    ['Hành Trình Trở Về - Home', 'P', 'Phim Âu Mỹ', 'Phim hoạt hình', 'Hành Trình Trở Về - Home là một bộ phim hoạt hình kể về cuộc gặp gỡ giữa một cô bé tên Tip và một người ngoài hành tinh ngộ nghĩnh tên Oh, thuộc chủng loài Boov đang tìm cách chiếm đóng Trái Đất.', 'Diễn viên:', 'Jennifer Lopez', ',', 'Steve Martin', ',', 'Brian Stepanek', ',', 'Rihanna', ',', 'Jim Parsons.', ',', 'Matt Jones', 'Đạo diễn:', 'Tim Johnson', 'Quốc gia:', 'United States of America']\n",
    "]\n",
    "\n",
    "# Process each movie\n",
    "details = [extract_movie_info(movie) for movie in movies_data]\n",
    "\n",
    "# Print results\n",
    "for movie in details:\n",
    "    print(movie)\n"
   ]
  },
  {
   "cell_type": "code",
   "execution_count": null,
   "metadata": {},
   "outputs": [],
   "source": []
  }
 ],
 "metadata": {
  "kernelspec": {
   "display_name": "chabot_tv360",
   "language": "python",
   "name": "python3"
  },
  "language_info": {
   "codemirror_mode": {
    "name": "ipython",
    "version": 3
   },
   "file_extension": ".py",
   "mimetype": "text/x-python",
   "name": "python",
   "nbconvert_exporter": "python",
   "pygments_lexer": "ipython3",
   "version": "3.12.0"
  }
 },
 "nbformat": 4,
 "nbformat_minor": 2
}
