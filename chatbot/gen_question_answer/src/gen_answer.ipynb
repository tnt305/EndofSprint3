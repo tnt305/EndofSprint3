{
 "cells": [
  {
   "cell_type": "code",
   "execution_count": 1,
   "metadata": {},
   "outputs": [],
   "source": [
    "from langchain_ollama import ChatOllama\n",
    "\n",
    "llm = ChatOllama(\n",
    "    model=\"llama3.1:8b\",\n",
    "    temperature=0.9,\n",
    "    keep_alive=\"20m\"\n",
    ")"
   ]
  },
  {
   "cell_type": "code",
   "execution_count": 2,
   "metadata": {},
   "outputs": [],
   "source": [
    "def read_prompt(prompt_path : str) -> str:\n",
    "    with open(prompt_path, 'r', encoding='utf-8') as file:\n",
    "        prompt = file.read()\n",
    "    return prompt"
   ]
  },
  {
   "cell_type": "code",
   "execution_count": 5,
   "metadata": {},
   "outputs": [],
   "source": [
    "\n",
    "from langchain_core.messages import AIMessage\n",
    "from langchain_core.prompts import ChatPromptTemplate\n",
    "\n",
    "prompt_text = read_prompt(\"prompt/gen_answer.md\")\n",
    "prompt_template = ChatPromptTemplate.from_messages([\"system\", prompt_text])\n",
    "\n",
    "gen_answer_chain = prompt_template | llm"
   ]
  },
  {
   "cell_type": "code",
   "execution_count": 6,
   "metadata": {},
   "outputs": [],
   "source": [
    "import pandas as pd\n",
    "\n",
    "data = pd.read_csv(\"question_gen_tv360.csv\")"
   ]
  },
  {
   "cell_type": "code",
   "execution_count": 7,
   "metadata": {},
   "outputs": [
    {
     "name": "stderr",
     "output_type": "stream",
     "text": [
      "Processing films:   0%|          | 0/168 [00:00<?, ?it/s]"
     ]
    },
    {
     "name": "stderr",
     "output_type": "stream",
     "text": [
      "Processing films: 100%|██████████| 168/168 [17:10<00:00,  6.14s/it]\n"
     ]
    }
   ],
   "source": [
    "from tqdm import tqdm\n",
    "\n",
    "# Add tqdm for progress tracking\n",
    "for index, row in tqdm(data.iterrows(), total=len(data), desc=\"Processing films\"):\n",
    "    film_info = row[\"film_info\"]\n",
    "    \n",
    "    # Generate answers\n",
    "    ans_actor = gen_answer_chain.invoke({\"film_information\": film_info, \"user_query\": row[\"q_actor\"]})\n",
    "    ans_director = gen_answer_chain.invoke({\"film_information\": film_info, \"user_query\": row[\"q_director\"]})\n",
    "    ans_categories = gen_answer_chain.invoke({\"film_information\": film_info, \"user_query\": row[\"q_genres\"]})\n",
    "    ans_description = gen_answer_chain.invoke({\"film_information\": film_info, \"user_query\": row[\"q_plot\"]})\n",
    "    ans_countries = gen_answer_chain.invoke({\"film_information\": film_info, \"user_query\": row[\"q_country\"]})\n",
    "\n",
    "    # Store the results in the DataFrame\n",
    "    data.at[index, \"ans_actor\"] = ans_actor.content\n",
    "    data.at[index, \"ans_director\"] = ans_director.content\n",
    "    data.at[index, \"ans_categories\"] = ans_categories.content\n",
    "    data.at[index, \"ans_description\"] = ans_description.content\n",
    "    data.at[index, \"ans_countries\"] = ans_countries.content"
   ]
  },
  {
   "cell_type": "code",
   "execution_count": 8,
   "metadata": {},
   "outputs": [],
   "source": [
    "data.to_csv(\"question_answer_gen_tv360.csv\", index=False)"
   ]
  },
  {
   "cell_type": "code",
   "execution_count": null,
   "metadata": {},
   "outputs": [],
   "source": []
  }
 ],
 "metadata": {
  "kernelspec": {
   "display_name": "chabot_tv360",
   "language": "python",
   "name": "python3"
  },
  "language_info": {
   "codemirror_mode": {
    "name": "ipython",
    "version": 3
   },
   "file_extension": ".py",
   "mimetype": "text/x-python",
   "name": "python",
   "nbconvert_exporter": "python",
   "pygments_lexer": "ipython3",
   "version": "3.12.0"
  }
 },
 "nbformat": 4,
 "nbformat_minor": 2
}
