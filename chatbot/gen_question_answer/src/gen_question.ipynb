{
 "cells": [
  {
   "cell_type": "code",
   "execution_count": 1,
   "metadata": {},
   "outputs": [],
   "source": [
    "from langchain_ollama import ChatOllama\n",
    "\n",
    "llm = ChatOllama(\n",
    "    model=\"llama3.1:8b\",\n",
    "    temperature=0.9,\n",
    "    keep_alive=\"20m\"\n",
    ")"
   ]
  },
  {
   "cell_type": "code",
   "execution_count": 2,
   "metadata": {},
   "outputs": [],
   "source": [
    "def read_prompt(prompt_path : str) -> str:\n",
    "    with open(prompt_path, 'r', encoding='utf-8') as file:\n",
    "        prompt = file.read()\n",
    "    return prompt"
   ]
  },
  {
   "cell_type": "code",
   "execution_count": 4,
   "metadata": {},
   "outputs": [],
   "source": [
    "\n",
    "from langchain_core.messages import AIMessage\n",
    "from langchain_core.prompts import ChatPromptTemplate\n",
    "\n",
    "def create_prompt_chain(prompt_path, llm):\n",
    "    prompt_text = read_prompt(prompt_path)\n",
    "    prompt_template = ChatPromptTemplate.from_messages([\"system\", prompt_text])\n",
    "    return prompt_template | llm\n",
    "\n",
    "actor_chain = create_prompt_chain(\"prompt/gen_question/actor_prompt.md\", llm)\n",
    "director_chain = create_prompt_chain(\"prompt/gen_question/director_prompt.md\", llm)\n",
    "categories_chain = create_prompt_chain(\"prompt/gen_question/categories_prompt.md\", llm)\n",
    "description_chain = create_prompt_chain(\"prompt/gen_question/description_prompt.md\", llm)\n",
    "countries_chain = create_prompt_chain(\"prompt/gen_question/countries_prompt.md\", llm)\n"
   ]
  },
  {
   "cell_type": "code",
   "execution_count": 5,
   "metadata": {},
   "outputs": [],
   "source": [
    "import pandas as pd\n",
    "\n",
    "ml1m_data = pd.read_csv(\"movies_data.csv\")"
   ]
  },
  {
   "cell_type": "code",
   "execution_count": 6,
   "metadata": {},
   "outputs": [
    {
     "data": {
      "text/html": [
       "<div>\n",
       "<style scoped>\n",
       "    .dataframe tbody tr th:only-of-type {\n",
       "        vertical-align: middle;\n",
       "    }\n",
       "\n",
       "    .dataframe tbody tr th {\n",
       "        vertical-align: top;\n",
       "    }\n",
       "\n",
       "    .dataframe thead th {\n",
       "        text-align: right;\n",
       "    }\n",
       "</style>\n",
       "<table border=\"1\" class=\"dataframe\">\n",
       "  <thead>\n",
       "    <tr style=\"text-align: right;\">\n",
       "      <th></th>\n",
       "      <th>title</th>\n",
       "      <th>category</th>\n",
       "      <th>plot</th>\n",
       "      <th>actors</th>\n",
       "      <th>director</th>\n",
       "      <th>country</th>\n",
       "    </tr>\n",
       "  </thead>\n",
       "  <tbody>\n",
       "    <tr>\n",
       "      <th>0</th>\n",
       "      <td>4K Lãng Quên - Oblivion</td>\n",
       "      <td>['T16', 'Phim Âu Mỹ', 'Hành động &amp; Phiêu lưu',...</td>\n",
       "      <td>NaN</td>\n",
       "      <td>['Morgan Freeman', '', 'Olga Kurylenko']</td>\n",
       "      <td>['Joseph Kosinski']</td>\n",
       "      <td>['United States of America']</td>\n",
       "    </tr>\n",
       "  </tbody>\n",
       "</table>\n",
       "</div>"
      ],
      "text/plain": [
       "                     title                                           category  \\\n",
       "0  4K Lãng Quên - Oblivion  ['T16', 'Phim Âu Mỹ', 'Hành động & Phiêu lưu',...   \n",
       "\n",
       "  plot                                    actors             director  \\\n",
       "0  NaN  ['Morgan Freeman', '', 'Olga Kurylenko']  ['Joseph Kosinski']   \n",
       "\n",
       "                        country  \n",
       "0  ['United States of America']  "
      ]
     },
     "execution_count": 6,
     "metadata": {},
     "output_type": "execute_result"
    }
   ],
   "source": [
    "ml1m_data.head(1)"
   ]
  },
  {
   "cell_type": "code",
   "execution_count": 12,
   "metadata": {},
   "outputs": [],
   "source": [
    "new_df = pd.DataFrame(columns=[\"film_info\", \"q_actor\", \"q_director\", \"q_genres\", \"q_country\", \"q_plot\"])"
   ]
  },
  {
   "cell_type": "code",
   "execution_count": 13,
   "metadata": {},
   "outputs": [
    {
     "name": "stderr",
     "output_type": "stream",
     "text": [
      "Processing films:  84%|████████▍ | 168/200 [08:11<01:33,  2.93s/it]\n"
     ]
    }
   ],
   "source": [
    "from tqdm import tqdm\n",
    "import itertools\n",
    "\n",
    "# Limit to 200 rows and add tqdm progress bar\n",
    "for index, row in tqdm(itertools.islice(ml1m_data.iterrows(), 200), total=200, desc=\"Processing films\"):\n",
    "    film_info = f\"\"\"\n",
    "    Tên phim : {row[\"title\"]}\n",
    "    Thể loại : {row[\"category\"]}\n",
    "    Diễn viên : {row[\"actors\"]}\n",
    "    Đạo diễn : {row[\"director\"]}\n",
    "    Quốc gia : {row[\"country\"]}\n",
    "    Mô tả : {row[\"plot\"]}\n",
    "    \"\"\"\n",
    "    \n",
    "    # Generate questions\n",
    "    question_actor = actor_chain.invoke({\"film_information\": film_info})\n",
    "    question_director = director_chain.invoke({\"film_information\": film_info})\n",
    "    question_categories = categories_chain.invoke({\"film_information\": film_info})\n",
    "    question_description = description_chain.invoke({\"film_information\": film_info})\n",
    "    question_countries = countries_chain.invoke({\"film_information\": film_info})\n",
    "    \n",
    "    # Store in new DataFrame\n",
    "    new_df.loc[index] = [\n",
    "        film_info,\n",
    "        question_actor.content,\n",
    "        question_director.content,\n",
    "        question_categories.content,\n",
    "        question_countries.content,\n",
    "        question_description.content\n",
    "    ]\n"
   ]
  },
  {
   "cell_type": "code",
   "execution_count": 15,
   "metadata": {},
   "outputs": [],
   "source": [
    "new_df.to_csv(\"question_gen_tv360.csv\", index=False)"
   ]
  },
  {
   "cell_type": "code",
   "execution_count": null,
   "metadata": {},
   "outputs": [],
   "source": []
  }
 ],
 "metadata": {
  "kernelspec": {
   "display_name": "chabot_tv360",
   "language": "python",
   "name": "python3"
  },
  "language_info": {
   "codemirror_mode": {
    "name": "ipython",
    "version": 3
   },
   "file_extension": ".py",
   "mimetype": "text/x-python",
   "name": "python",
   "nbconvert_exporter": "python",
   "pygments_lexer": "ipython3",
   "version": "3.12.0"
  }
 },
 "nbformat": 4,
 "nbformat_minor": 2
}
